{
 "cells": [
  {
   "cell_type": "markdown",
   "metadata": {},
   "source": [
    "# Data Analysis and Visualization in Python\n",
    "## Accessing SQLite Databases Using Python and Pandas\n",
    "Questions\n",
    "* What if my data are stored in an SQL database? Can I manage them with Python?\n",
    "* How can I write data from Python to be used with SQL?\n",
    "\n",
    "Objectives\n",
    "* Use the sqlite3 module to interact with a SQL database.\n",
    "* Access data stored in SQLite using Python.\n",
    "* Describe the difference in interacting with data stored as a CSV file versus in SQLite.\n",
    "* Describe the benefits of accessing data using a database compared to a CSV file."
   ]
  },
  {
   "cell_type": "markdown",
   "metadata": {},
   "source": [
    "## Python and SQL\n",
    "### The `sqlite3` module"
   ]
  },
  {
   "cell_type": "code",
   "execution_count": null,
   "metadata": {},
   "outputs": [],
   "source": [
    "import sqlite3\n",
    "\n",
    "# Create a SQL connection to our SQLite database\n",
    "con = sqlite3.connect(\"../../data/portal_mammals.sqlite\")\n",
    "\n",
    "cur = con.cursor()\n",
    "\n",
    "# The result of a \"cursor.execute\" can be iterated over by row\n",
    "for row in cur.execute('SELECT * FROM species;'):\n",
    "    print(row)\n",
    "\n",
    "# Be sure to close the connection.\n",
    "con.close()"
   ]
  },
  {
   "cell_type": "markdown",
   "metadata": {},
   "source": [
    "### Queries"
   ]
  },
  {
   "cell_type": "code",
   "execution_count": null,
   "metadata": {},
   "outputs": [],
   "source": [
    "# Create a SQL connection to our SQLite database\n",
    "con = sqlite3.connect(\"../../data/portal_mammals.sqlite\")\n",
    "\n",
    "cur = con.cursor()"
   ]
  },
  {
   "cell_type": "code",
   "execution_count": null,
   "metadata": {},
   "outputs": [],
   "source": [
    "# Get all table names\n",
    "cur.execute('SELECT name FROM sqlite_master WHERE type = \"table\"')\n",
    "cur.fetchall()"
   ]
  },
  {
   "cell_type": "code",
   "execution_count": null,
   "metadata": {},
   "outputs": [],
   "source": [
    "# Get information about the plots table\n",
    "cur.execute('PRAGMA table_info(plots)')\n",
    "cur.fetchall()"
   ]
  },
  {
   "cell_type": "code",
   "execution_count": null,
   "metadata": {},
   "outputs": [],
   "source": [
    "# Get all different plot types and their count, sorted by count\n",
    "cur.execute('SELECT plot_type,COUNT(plot_type) FROM plots ' +\n",
    "            'GROUP BY plot_type ' +\n",
    "            'ORDER BY COUNT(plot_type)')\n",
    "cur.fetchall()"
   ]
  },
  {
   "cell_type": "code",
   "execution_count": null,
   "metadata": {},
   "outputs": [],
   "source": [
    "# Get all plot IDs where the plot type is \"Spectab exclosure\"\n",
    "cur.execute('SELECT plot_id FROM plots WHERE plot_type = \"Spectab exclosure\"')\n",
    "cur.fetchall()"
   ]
  },
  {
   "cell_type": "code",
   "execution_count": null,
   "metadata": {},
   "outputs": [],
   "source": [
    "# Return only the first result of a query\n",
    "cur.execute('SELECT genus,COUNT(genus) FROM surveys ' +\n",
    "            'INNER JOIN plots   ON plots.plot_id      = surveys.plot ' +\n",
    "            'INNER JOIN species ON species.species_id = surveys.species ' +\n",
    "            'GROUP BY genus HAVING plots.plot_type = \"Spectab exclosure\" ' +\n",
    "            'ORDER BY COUNT(genus) DESC')\n",
    "cur.fetchone()"
   ]
  },
  {
   "cell_type": "code",
   "execution_count": null,
   "metadata": {},
   "outputs": [],
   "source": [
    "# Be sure to close the connection.\n",
    "con.close()"
   ]
  },
  {
   "cell_type": "markdown",
   "metadata": {},
   "source": [
    "### Exercise - SQL Queries\n",
    "Create a query that contains survey data collected between 1998 and 2001 for observations of sex \"female\" or \"male\", and keep all different combinations of genus, species name and plot type for the sample. How many records are returned?"
   ]
  },
  {
   "cell_type": "code",
   "execution_count": null,
   "metadata": {},
   "outputs": [],
   "source": [
    "con = sqlite3.connect(\"../../data/portal_mammals.sqlite\")\n",
    "cur = con.cursor()\n",
    "\n",
    "cur.execute('SELECT DISTINCT genus,species.species,plot_type FROM surveys ' +\n",
    "            'INNER JOIN plots   ON plots.plot_id      = surveys.plot ' +\n",
    "            'INNER JOIN species ON species.species_id = surveys.species ' +\n",
    "            'WHERE (year BETWEEN 1998 AND 2001) ' +\n",
    "            'AND (sex IN (\"F\", \"M\"))')\n",
    "print(len(cur.fetchall()))\n",
    "\n",
    "con.close()"
   ]
  },
  {
   "cell_type": "markdown",
   "metadata": {},
   "source": [
    "## Accessing data stored in SQLite using Python and Pandas"
   ]
  },
  {
   "cell_type": "code",
   "execution_count": null,
   "metadata": {},
   "outputs": [],
   "source": [
    "import pandas as pd\n",
    "\n",
    "# Read sqlite query results into a pandas DataFrame\n",
    "con = sqlite3.connect(\"../../data/portal_mammals.sqlite\")\n",
    "df = pd.read_sql_query(\"SELECT * FROM surveys\", con)\n",
    "\n",
    "# Verify that result of SQL query is stored in the dataframe\n",
    "print(df.head())\n",
    "\n",
    "con.close()"
   ]
  },
  {
   "cell_type": "markdown",
   "metadata": {},
   "source": [
    "## Storing data: CSV vs SQLite\n",
    "Storing your data in an SQLite database can provide substantial performance improvements when reading/writing compared to CSV. The difference in performance becomes more noticeable as the size of the dataset grows (see for example [these benchmarks](http://sebastianraschka.com/Articles/2013_sqlite_database.html#results-and-conclusions))."
   ]
  },
  {
   "cell_type": "markdown",
   "metadata": {},
   "source": [
    "### Exercise - SQL and Pandas\n",
    "Create a dataframe that contains the total number of observations (`COUNT`) and the `SUM` of observed weights (`wgt`) for each site ID (`plot`) for all years, ordered by site ID."
   ]
  },
  {
   "cell_type": "code",
   "execution_count": null,
   "metadata": {},
   "outputs": [],
   "source": [
    "con = sqlite3.connect(\"../../data/portal_mammals.sqlite\")\n",
    "\n",
    "df = pd.read_sql_query('SELECT plot,year,COUNT(record_id),SUM(wgt) FROM surveys ' +\n",
    "                       'GROUP BY plot,year ORDER BY plot', con)\n",
    "\n",
    "print(df.head())\n",
    "print(df.tail())\n",
    "\n",
    "con.close()"
   ]
  },
  {
   "cell_type": "markdown",
   "metadata": {},
   "source": [
    "## Storing data: Create new tables using Pandas"
   ]
  },
  {
   "cell_type": "code",
   "execution_count": null,
   "metadata": {},
   "outputs": [],
   "source": [
    "con = sqlite3.connect(\"../../data/portal_mammals.sqlite\")\n",
    "\n",
    "# Load the data into a DataFrame\n",
    "surveys_df = pd.read_sql_query(\"SELECT * FROM surveys\", con)\n",
    "\n",
    "# Select only data for 2002\n",
    "surveys2002 = surveys_df[surveys_df['year'] == 2002]\n",
    "\n",
    "# Write the new DataFrame to a new SQLite table\n",
    "surveys2002.to_sql(\"surveys2002\", con, if_exists=\"replace\")\n",
    "\n",
    "con.close()"
   ]
  },
  {
   "cell_type": "markdown",
   "metadata": {},
   "source": [
    "### Exercise - Saving your work\n",
    "1. For each of the challenges in the previous exercise block, modify your code to save the results to their own tables in the portal database.\n",
    "1. What are some of the reasons you might want to save the results of your queries back into the database? What are some of the reasons you might avoid doing this."
   ]
  },
  {
   "cell_type": "code",
   "execution_count": null,
   "metadata": {},
   "outputs": [],
   "source": []
  }
 ],
 "metadata": {
  "anaconda-cloud": {},
  "kernelspec": {
   "display_name": "Python 3",
   "language": "python",
   "name": "python3"
  },
  "language_info": {
   "codemirror_mode": {
    "name": "ipython",
    "version": 3
   },
   "file_extension": ".py",
   "mimetype": "text/x-python",
   "name": "python",
   "nbconvert_exporter": "python",
   "pygments_lexer": "ipython3",
   "version": "3.7.4"
  }
 },
 "nbformat": 4,
 "nbformat_minor": 1
}
