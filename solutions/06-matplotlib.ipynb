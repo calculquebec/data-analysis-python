{
 "cells": [
  {
   "cell_type": "markdown",
   "metadata": {},
   "source": [
    "# Data Analysis and Visualization in Python\n",
    "## Data Ingest and Visualization - Matplotlib and Pandas\n",
    "Questions\n",
    "* What should I know about Matplotlib when using Pandas?\n",
    "\n",
    "Objectives\n",
    "* Import the `pyplot` toolbox to create figures in Python.\n",
    "* Use `matplotlib` to make adjustments to Pandas or Plotnine objects."
   ]
  },
  {
   "cell_type": "markdown",
   "metadata": {},
   "source": [
    "## Loading our Data"
   ]
  },
  {
   "cell_type": "code",
   "execution_count": null,
   "metadata": {},
   "outputs": [],
   "source": [
    "import pandas as pd\n",
    "\n",
    "# Load the data\n",
    "surveys_df = pd.read_csv('../data/surveys.csv')"
   ]
  },
  {
   "cell_type": "markdown",
   "metadata": {},
   "source": [
    "## The `matplotlib` package\n",
    "A great resource for help styling your figures is the Matplotlib gallery (https://matplotlib.org/stable/tutorials/introductory/sample_plots.html), which includes plots in many different styles and the source code that creates them."
   ]
  },
  {
   "cell_type": "code",
   "execution_count": null,
   "metadata": {},
   "outputs": [],
   "source": [
    "import matplotlib.pyplot as plt"
   ]
  },
  {
   "cell_type": "markdown",
   "metadata": {},
   "source": [
    "### Link Pandas, Matplotlib and Plotnine"
   ]
  },
  {
   "cell_type": "code",
   "execution_count": null,
   "metadata": {},
   "outputs": [],
   "source": [
    "import plotnine as p9"
   ]
  },
  {
   "cell_type": "code",
   "execution_count": null,
   "metadata": {},
   "outputs": [],
   "source": [
    "# Create a plot from Pandas (implicit figure)\n",
    "my_plot = surveys_df.plot('weight', 'hindfoot_length', kind=\"scatter\")\n",
    "plt.show() # Not necessary, but looks better in Jupyter Notebooks"
   ]
  },
  {
   "cell_type": "code",
   "execution_count": null,
   "metadata": {},
   "outputs": [],
   "source": [
    "fig, ax1 = plt.subplots() # Create a Matplotlib figure and axis\n",
    "\n",
    "# Create a plot from Pandas with the Matplotlib axis ax1\n",
    "surveys_df.plot('weight', 'hindfoot_length', kind=\"scatter\", ax=ax1)\n",
    "\n",
    "# Provide further adaptations with matplotlib:\n",
    "ax1.set_xlabel(\"Weight (g)\")\n",
    "ax1.set_ylabel(\"Hindfoot length (mm)\")\n",
    "ax1.tick_params(labelsize=16, pad=8)\n",
    "ax1.set_title(\"Scatter plot of hindfoot length versus weight\", fontsize=15)\n",
    "\n",
    "plt.show() # Not necessary, but looks better in Jupyter Notebooks"
   ]
  },
  {
   "cell_type": "markdown",
   "metadata": {},
   "source": [
    "To retrieve the Matplotlib figure object from Plotnine for customization, use the `draw()` method:"
   ]
  },
  {
   "cell_type": "code",
   "execution_count": null,
   "metadata": {},
   "outputs": [],
   "source": [
    "# Create a plot from Plotnine\n",
    "myplot = (p9.ggplot(data=surveys_df,\n",
    "                    mapping=p9.aes(x='weight', y='hindfoot_length'))\n",
    "          + p9.geom_point())\n",
    "\n",
    "# Convert the Plotnine object to a Matplotlib object\n",
    "my_plt_version = myplot.draw()\n",
    "p9_ax = my_plt_version.axes[0] # Each subplot axis is an item in a list\n",
    "\n",
    "# Provide further adaptations with Matplotlib:\n",
    "p9_ax.set_xlabel(\"Weight (g)\")\n",
    "p9_ax.set_ylabel(\"Hindfoot length (mm)\")\n",
    "p9_ax.tick_params(labelsize=16, pad=8)\n",
    "p9_ax.set_title(\"Scatter plot of hindfoot length versus weight\", fontsize=15)\n",
    "\n",
    "plt.show() # Not necessary in Jupyter Notebooks"
   ]
  },
  {
   "cell_type": "markdown",
   "metadata": {},
   "source": [
    "### Saving Matplotlib figures"
   ]
  },
  {
   "cell_type": "code",
   "execution_count": null,
   "metadata": {},
   "outputs": [],
   "source": [
    "fig.savefig(\"my_plot_name.png\")"
   ]
  },
  {
   "cell_type": "markdown",
   "metadata": {},
   "source": [
    "### Exercise - Saving figures\n",
    "Save in `pdf` format in 300 dpi"
   ]
  },
  {
   "cell_type": "code",
   "execution_count": null,
   "metadata": {},
   "outputs": [],
   "source": [
    "fig.savefig(\"my_plot_name.pdf\", dpi=300)"
   ]
  },
  {
   "cell_type": "markdown",
   "metadata": {},
   "source": [
    "## Make other types of plots\n",
    "https://matplotlib.org/stable/tutorials/introductory/sample_plots.html"
   ]
  },
  {
   "cell_type": "code",
   "execution_count": null,
   "metadata": {},
   "outputs": [],
   "source": []
  }
 ],
 "metadata": {
  "anaconda-cloud": {},
  "kernelspec": {
   "display_name": "Python 3",
   "language": "python",
   "name": "python3"
  },
  "language_info": {
   "codemirror_mode": {
    "name": "ipython",
    "version": 3
   },
   "file_extension": ".py",
   "mimetype": "text/x-python",
   "name": "python",
   "nbconvert_exporter": "python",
   "pygments_lexer": "ipython3",
   "version": "3.7.4"
  }
 },
 "nbformat": 4,
 "nbformat_minor": 1
}
