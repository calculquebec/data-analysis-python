{
 "cells": [
  {
   "cell_type": "markdown",
   "metadata": {},
   "source": [
    "# Data Analysis and Visualization in Python"
   ]
  },
  {
   "cell_type": "markdown",
   "metadata": {},
   "source": [
    "## About this workshop\n",
    "\n",
    "This workshop is based on the online tutorial\n",
    "[Data Carpentry - Data Analysis and Visualization in Python for Ecologists](https://datacarpentry.org/python-ecology-lesson/).\n",
    "\n",
    "Note: the IPython *notebooks* of this workshop and the associated data are [published on GitHub](https://github.com/calculquebec/data-analysis-python)."
   ]
  },
  {
   "cell_type": "markdown",
   "metadata": {},
   "source": [
    "### Table of contents\n",
    "**Day 1** (3 hours)\n",
    "* [Starting With Data](01-data.ipynb) (notebook [`01-data.ipynb`](01-data.ipynb))\n",
    "* [Indexing, Slicing and Subsetting DataFrames](02-selection.ipynb) (notebook [`02-selection.ipynb`](02-selection.ipynb))\n",
    "* [Combining DataFrames with Pandas](03-combining.ipynb) (notebook [`03-combining.ipynb`](03-combining.ipynb))\n",
    "\n",
    "**Day 2** (3 hours)\n",
    "* [Data Workflows and Automation](04-workflows.ipynb) (notebook [`04-workflows.ipynb`](04-workflows.ipynb))\n",
    "* [Making Plots With plotnine](05-plotnine.ipynb) (notebook [`05-plotnine.ipynb`](05-plotnine.ipynb))\n",
    "* [Matplotlib and Pandas](06-matplotlib.ipynb) (notebook [`06-matplotlib.ipynb`](06-matplotlib.ipynb))\n",
    "\n",
    "**Extras** (if time permits)\n",
    "* [Accessing SQLite Databases with Pandas](extras/sqlite.ipynb) (notebook [`extras/sqlite.ipynb`](extras/sqlite.ipynb))"
   ]
  },
  {
   "cell_type": "markdown",
   "metadata": {},
   "source": [
    "### Our Data\n",
    "\n",
    "For this lesson, we will be using the Portal Teaching data, which is a subset of the data from Ernst *et al* Long-term monitoring and experimental manipulation of a Chihuahuan Desert ecosystem near Portal, Arizona, USA:\n",
    "https://esapubs.org/archive/ecol/E090/118/\n",
    "\n",
    "We will be using files from the Portal Project Teaching Database:\n",
    "https://figshare.com/articles/Portal_Project_Teaching_Database/1314459\n",
    "\n",
    "This section will use the **`data/surveys.csv`** file, which is a simplified version of the original file that can be downloaded here:\n",
    "https://ndownloader.figshare.com/files/2292172\n",
    "\n",
    "We are studying the species and weight of animals caught in plots (or sites) in our study area. The dataset is stored as a `.csv` file: each row holds information for a single animal, and the columns represent:\n",
    "\n",
    " Column           | Description\n",
    "----------------- | -----------\n",
    "`record_id`       | Unique id for the observation\n",
    "`month`           | month of observation\n",
    "`day`             | day of observation\n",
    "`year`            | year of observation\n",
    "`plot_id`         | ID of a particular site\n",
    "`species_id`      | 2-letter code\n",
    "`sex`             | sex of animal (“M”, “F”)\n",
    "`hindfoot_length` | length of the hindfoot in mm\n",
    "`weight`          | weight of the animal in grams"
   ]
  },
  {
   "cell_type": "markdown",
   "metadata": {},
   "source": [
    "The first few rows of `data/surveys.csv` look like this:\n",
    "\n",
    "```\n",
    "record_id,month,day,year,plot_id,species_id,sex,hindfoot_length,weight\n",
    "1,7,16,1977,2,NL,M,32,\n",
    "2,7,16,1977,3,NL,M,33,\n",
    "3,7,16,1977,2,DM,F,37,\n",
    "4,7,16,1977,7,DM,M,36,\n",
    "5,7,16,1977,3,DM,M,35,\n",
    "6,7,16,1977,1,PF,M,14,\n",
    "7,7,16,1977,2,PE,F,,\n",
    "8,7,16,1977,1,DM,M,37,\n",
    "9,7,16,1977,1,DM,F,34,\n",
    "```"
   ]
  },
  {
   "cell_type": "markdown",
   "metadata": {},
   "source": [
    "### How to Use Jupyter\n",
    "When a cell is in edit mode:\n",
    "\n",
    "  Shortcut  | Description\n",
    "----------- | -----------\n",
    "Shift+Enter | Run the cell, and go to the next\n",
    "Tab         | Indent code or auto-completion\n",
    "Esc         | Go to command mode\n",
    "\n",
    "When a cell is in command mode:\n",
    "\n",
    "  Shortcut   | Description\n",
    "------------ | -----------\n",
    "Shift+Enter  | Run the cell, and go to the next\n",
    "Double-click | Go to edit mode\n",
    "Enter        | Go to edit mode\n",
    "\n",
    "  Shortcut   | Description\n",
    "------------ | -----------\n",
    "A            | Insert a cell above\n",
    "B            | Insert a cell below\n",
    "C            | Copy the current cell\n",
    "V            | Paste the cell below\n",
    "D D          | Delete the current cell\n",
    "M            | Change to Markdown cell\n",
    "Y            | Change to Code cell\n",
    "\n",
    "To reset all cells:\n",
    "* Go to the top menu, and select Kernel -> Restart & Clear Output"
   ]
  },
  {
   "cell_type": "code",
   "execution_count": null,
   "metadata": {},
   "outputs": [],
   "source": [
    "1 + 2  # Press Shift+Enter to execute this cell"
   ]
  },
  {
   "cell_type": "markdown",
   "metadata": {},
   "source": [
    "### Reference\n",
    "Python modules:\n",
    "* [`pandas`](https://pandas.pydata.org/docs/reference/index.html)\n",
    "  * The [`melt()`](https://pandas.pydata.org/docs/reference/api/pandas.melt.html) function\n",
    "* [`plotnine`](https://plotnine.readthedocs.io/en/stable/) :\n",
    "  * [Gallery (examples)](https://plotnine.readthedocs.io/en/stable/gallery.html)\n",
    "  * Geometric elements constructors [`geom_*()`](https://plotnine.readthedocs.io/en/stable/api.html#geoms)\n",
    "  * Theme constructors [`theme*()`](https://plotnine.readthedocs.io/en/stable/api.html#themes)\n",
    "  * Facet constructors [`facet_*()`](https://plotnine.readthedocs.io/en/stable/api.html#facets)\n",
    "* [`bokeh`](https://docs.bokeh.org/en/latest/) and\n",
    "[`plotly`](https://plotly.com/python/) for interactive plots in a Web page\n",
    "\n",
    "Python development environments:\n",
    "* [JupyterLab](https://docs.computecanada.ca/wiki/JupyterLab) on supercomputers\n",
    "* [Jupyter Notebook](https://docs.computecanada.ca/wiki/JupyterNotebook/fr), launched locally\n",
    "* [Spyder IDE](https://www.spyder-ide.org)\n",
    "* [Visual Studio Code](https://code.visualstudio.com)\n",
    "\n",
    "Training:\n",
    "* Future workshops at [Calcul Québec](https://www.eventbrite.ca/o/calcul-quebec-8295332683)\n",
    "  and [Calcul Canada](https://www.computecanada.ca/research-portal/technical-support/training/)\n",
    "* [Software Carpentry](https://software-carpentry.org/lessons/)\n",
    "  and [Data Carpentry](https://datacarpentry.org/lessons/) online tutorials:\n",
    "  * [The Unix Shell](https://swcarpentry.github.io/shell-novice/)\n",
    "  * [Programming with Python](https://swcarpentry.github.io/python-novice-inflammation/)\n",
    "  * [Data Cleaning with OpenRefine](https://datacarpentry.org/OpenRefine-ecology-lesson/)\n",
    "  * [Data Management with SQL](https://datacarpentry.org/sql-ecology-lesson/)\n",
    "  * [Data Analysis and Visualization in R](https://datacarpentry.org/R-ecology-lesson/)"
   ]
  },
  {
   "cell_type": "code",
   "execution_count": null,
   "metadata": {},
   "outputs": [],
   "source": []
  }
 ],
 "metadata": {
  "kernelspec": {
   "display_name": "Python 3",
   "language": "python",
   "name": "python3"
  },
  "language_info": {
   "codemirror_mode": {
    "name": "ipython",
    "version": 3
   },
   "file_extension": ".py",
   "mimetype": "text/x-python",
   "name": "python",
   "nbconvert_exporter": "python",
   "pygments_lexer": "ipython3",
   "version": "3.7.4"
  }
 },
 "nbformat": 4,
 "nbformat_minor": 2
}
